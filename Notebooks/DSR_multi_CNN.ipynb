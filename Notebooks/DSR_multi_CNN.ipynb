{
 "cells": [
  {
   "cell_type": "code",
   "execution_count": 1,
   "id": "3535a7fd-c909-4bf9-8a89-ddf5cdbd162e",
   "metadata": {},
   "outputs": [],
   "source": [
    "!pip install optuna --quiet"
   ]
  },
  {
   "cell_type": "code",
   "execution_count": 2,
   "id": "94ab4968-3f69-4a66-8c06-4ea2341882ed",
   "metadata": {},
   "outputs": [
    {
     "name": "stdout",
     "output_type": "stream",
     "text": [
      "False\n"
     ]
    },
    {
     "name": "stderr",
     "output_type": "stream",
     "text": [
      "/opt/conda/lib/python3.11/site-packages/tqdm/auto.py:21: TqdmWarning: IProgress not found. Please update jupyter and ipywidgets. See https://ipywidgets.readthedocs.io/en/stable/user_install.html\n",
      "  from .autonotebook import tqdm as notebook_tqdm\n"
     ]
    }
   ],
   "source": [
    "from functools import partial\n",
    "import os\n",
    "import tempfile\n",
    "from pathlib import Path\n",
    "import numpy as np\n",
    "import matplotlib.pyplot as plt\n",
    "from sklearn.model_selection import train_test_split\n",
    "\n",
    "import torch\n",
    "import torch.nn as nn\n",
    "import torch.nn.functional as F\n",
    "import torch.optim as optim\n",
    "from torch.utils.data import TensorDataset, DataLoader, Subset\n",
    "import torchaudio\n",
    "import torchaudio.transforms as T\n",
    "\n",
    "import optuna\n",
    "\n",
    "print(torch.cuda.is_available())"
   ]
  },
  {
   "cell_type": "code",
   "execution_count": 3,
   "id": "a280e7d3-1cf0-448c-881d-7e786704f359",
   "metadata": {},
   "outputs": [],
   "source": [
    "# Load waveforms and create dataset\n",
    "\n",
    "\n",
    "def pad_tensor(tensor, target_length):\n",
    "    # Pad the tensor to the target length\n",
    "    padding = target_length - tensor.shape[-1]\n",
    "    if padding > 0:\n",
    "        tensor = torch.nn.functional.pad(tensor, (0, padding))\n",
    "    return tensor\n",
    "\n",
    "\n",
    "def create_tensor_dataset(directories):   # Create labeled tensor dataset from PSUH directory\n",
    "    # Initialize lists\n",
    "    audio_tensors = []\n",
    "    filepaths = []\n",
    "    for directory in directories:\n",
    "        for filename in os.listdir(directory):\n",
    "            try:\n",
    "                file_path = os.path.join(directory, filename)\n",
    "                # Load audio file\n",
    "                waveform, sample_rate = torchaudio.load(filename)\n",
    "                # Get spectrogram of waveform and transform to tensor\n",
    "                spectrogram_transform = T.Spectrogram()\n",
    "                spectrogram = spectrogram_transform(waveform)\n",
    "                # Add tensor to list\n",
    "                audio_tensors.append(spectrogram)\n",
    "                # Add filepath to list\n",
    "                filepaths.append(file_path)\n",
    "            except (RuntimeError, OSError) as e:\n",
    "                print(f\"An error occurred with {filename}: {e}\")\n",
    "                continue\n",
    "            \n",
    "    # Assign labels based on filepath name (pre = 0, dc = 1, post = 2)\n",
    "    labels = [0 if 'pre' in s else 1 if 'dc' in s else 2 if 'post' in s else -1 for s in filepaths]\n",
    "\n",
    "    # Find the maximum length of the waveforms\n",
    "    max_length = max(waveform.shape[-1] for waveform in audio_tensors)\n",
    "    # Pad all waveforms to the maximum length\n",
    "    padded_waveforms = [pad_tensor(waveform, max_length) for waveform in audio_tensors]\n",
    "    # Convert lists to tensors\n",
    "    audio_tensors = torch.stack(padded_waveforms)\n",
    "    labels = torch.tensor(labels)\n",
    "    # Create TensorDataset\n",
    "    dataset = TensorDataset(audio_tensors, labels)\n",
    "    return filepaths, labels, dataset\n",
    "\n"
   ]
  },
  {
   "cell_type": "code",
   "execution_count": 4,
   "id": "9894acc2-d819-4136-a7b5-6b20a848eea5",
   "metadata": {},
   "outputs": [
    {
     "name": "stdout",
     "output_type": "stream",
     "text": [
      "An error occurred with 05pre_nr_10.wav: Error opening '05pre_nr_10.wav': System error.\n",
      "An error occurred with 17post_nr_1.wav: Error opening '17post_nr_1.wav': System error.\n",
      "An error occurred with 36dc_nr_3.wav: Error opening '36dc_nr_3.wav': System error.\n"
     ]
    },
    {
     "data": {
      "text/plain": [
       "torch.Size([1, 201, 219])"
      ]
     },
     "execution_count": 4,
     "metadata": {},
     "output_type": "execute_result"
    }
   ],
   "source": [
    "# Define normalized utterance directories\n",
    "pre_norm = \"PSUH/NR/pre/segment/normalized/\"\n",
    "post_norm = \"PSUH/NR/post/segment/normalized/\"\n",
    "dc_norm = \"PSUH/NR/dc/segment/normalized/\"\n",
    "directories = [pre_norm, post_norm, dc_norm]\n",
    "# Create TensorDataset\n",
    "PSUH_paths, PSUH_labels, PSUH_ds = create_tensor_dataset(directories)\n",
    "PSUH_ds[0][0].shape"
   ]
  },
  {
   "cell_type": "code",
   "execution_count": 5,
   "id": "9cd66f57-9667-4e98-acd8-5b92c3bf4088",
   "metadata": {},
   "outputs": [],
   "source": [
    "### Split into train / val / test datasets\n",
    "# Split indices\n",
    "train_indices, test_indices = train_test_split(range(len(PSUH_ds)), test_size=0.2, stratify=PSUH_labels, random_state=123)\n",
    "# Further split train_indices to create a validation dataset that's 25% of training set\n",
    "train_indices, val_indices = train_test_split(train_indices, test_size=0.2, stratify=PSUH_labels[train_indices], random_state=123)\n",
    "\n",
    "# Create subsets\n",
    "train_dataset = Subset(PSUH_ds, train_indices)\n",
    "val_dataset = Subset(PSUH_ds, val_indices)\n",
    "test_dataset = Subset(PSUH_ds, test_indices)\n",
    "\n",
    "# Create loaders\n",
    "train_loader = DataLoader(train_dataset, batch_size=32, shuffle=True)\n",
    "val_loader = DataLoader(val_dataset, batch_size=32, shuffle=False)\n",
    "test_loader = DataLoader(test_dataset, batch_size=32, shuffle=False)"
   ]
  },
  {
   "cell_type": "markdown",
   "id": "09d1854f-57be-435d-9c25-cc2c6d34a062",
   "metadata": {},
   "source": [
    "#### Create CNN model"
   ]
  },
  {
   "cell_type": "code",
   "execution_count": 6,
   "id": "cfbbfdf1-b31b-463c-9988-2eb5b609f31a",
   "metadata": {},
   "outputs": [
    {
     "name": "stdout",
     "output_type": "stream",
     "text": [
      "MultiCNN(\n",
      "  (conv1): Conv2d(1, 8, kernel_size=(3, 3), stride=(1, 1), padding=(1, 1))\n",
      "  (conv2): Conv2d(8, 16, kernel_size=(3, 3), stride=(1, 1), padding=(1, 1))\n",
      "  (conv3): Conv2d(16, 32, kernel_size=(3, 3), stride=(1, 1), padding=(1, 1))\n",
      "  (pool): MaxPool2d(kernel_size=2, stride=2, padding=0, dilation=1, ceil_mode=False)\n",
      "  (fc1): Linear(in_features=21600, out_features=4, bias=True)\n",
      "  (fc2): Linear(in_features=4, out_features=2, bias=True)\n",
      "  (fc3): Linear(in_features=2, out_features=3, bias=True)\n",
      "  (dropout): Dropout(p=0.5, inplace=False)\n",
      ")\n"
     ]
    }
   ],
   "source": [
    "class MultiCNN(nn.Module):\n",
    "    def __init__(self, l1=4, l2=2):\n",
    "        super(MultiCNN, self).__init__()\n",
    "        self.conv1 = nn.Conv2d(1, 8, kernel_size=3, stride=1, padding=1)\n",
    "        self.conv2 = nn.Conv2d(8, 16, kernel_size=3, stride=1, padding=1)\n",
    "        self.conv3 = nn.Conv2d(16, 32, kernel_size=3, stride=1, padding=1)\n",
    "        self.pool = nn.MaxPool2d(kernel_size=2, stride=2, padding=0)\n",
    "        self.fc1 = nn.Linear(32 * 25 * 27, l1)  # Adjust the dimensions based on the input size\n",
    "        self.fc2 = nn.Linear(l1, l2)\n",
    "        self.fc3 = nn.Linear(l2, 3)  # 3 classes\n",
    "        self.dropout = nn.Dropout(p=0.5)\n",
    "\n",
    "    def forward(self, x):\n",
    "        x = F.relu(self.conv1(x))\n",
    "        x = F.max_pool2d(x, 2)\n",
    "        x = F.relu(self.conv2(x))\n",
    "        x = F.max_pool2d(x, 2)\n",
    "        x = F.relu(self.conv3(x))\n",
    "        x = F.max_pool2d(x, 2)\n",
    "        x = x.view(-1, 32 * 25 * 27)\n",
    "        x = F.relu(self.fc1(x))\n",
    "        x = self.dropout(x)  # Apply dropout after first fully connected layer\n",
    "        x = F.relu(self.fc2(x))\n",
    "        x = self.dropout(x)  # Apply dropout after second fully connected layer\n",
    "        x = self.fc3(x)\n",
    "        return x\n",
    "\n",
    "# Example usage\n",
    "model = MultiCNN()\n",
    "print(model)"
   ]
  },
  {
   "cell_type": "code",
   "execution_count": 7,
   "id": "b508c99b-5190-49c8-85cb-ef1cfeeab18b",
   "metadata": {},
   "outputs": [],
   "source": [
    "def objective(trial):\n",
    "    # Hyperparameters to tune\n",
    "    l1 = trial.suggest_int('l1', 2, 16)\n",
    "    l2 = trial.suggest_int('l2', 2, 16)\n",
    "    learning_rate = trial.suggest_float('lr', 1e-5, 1e-2, log=True)\n",
    "    \n",
    "    # Load dataset\n",
    "    train_dataset = Subset(PSUH_ds, train_indices)\n",
    "    train_loader = DataLoader(train_dataset, batch_size=32, shuffle=True)\n",
    "\n",
    "    model = MultiCNN(l1)\n",
    "    optimizer = optim.Adam(model.parameters(), lr=learning_rate)\n",
    "    criterion = nn.CrossEntropyLoss()\n",
    "\n",
    "    # Training loop (10 epoch for simplicity)\n",
    "    model.train()\n",
    "    for epoch in range(10):\n",
    "        for batch_idx, (data, target) in enumerate(train_loader):\n",
    "            optimizer.zero_grad()\n",
    "            output = model(data)\n",
    "            loss = criterion(output, target)\n",
    "            loss.backward()\n",
    "            optimizer.step()\n",
    "\n",
    "    return loss.item()"
   ]
  },
  {
   "cell_type": "code",
   "execution_count": 8,
   "id": "614c4dc0-5899-43b0-a405-8870435d1b55",
   "metadata": {},
   "outputs": [
    {
     "name": "stderr",
     "output_type": "stream",
     "text": [
      "[I 2024-10-17 00:32:56,865] A new study created in memory with name: no-name-6bd58de7-a80d-4ad7-bb89-4fd60189932d\n",
      "[I 2024-10-17 00:33:07,960] Trial 0 finished with value: 1.0249477624893188 and parameters: {'l1': 11, 'l2': 10, 'lr': 1.6898409374005797e-05}. Best is trial 0 with value: 1.0249477624893188.\n",
      "[I 2024-10-17 00:33:19,260] Trial 1 finished with value: 1.074440598487854 and parameters: {'l1': 6, 'l2': 7, 'lr': 0.00014207347165889498}. Best is trial 0 with value: 1.0249477624893188.\n",
      "[I 2024-10-17 00:33:30,957] Trial 2 finished with value: 0.8051438927650452 and parameters: {'l1': 13, 'l2': 15, 'lr': 0.0046050959848751485}. Best is trial 2 with value: 0.8051438927650452.\n",
      "[I 2024-10-17 00:33:42,082] Trial 3 finished with value: 1.43328857421875 and parameters: {'l1': 4, 'l2': 8, 'lr': 4.271753275047635e-05}. Best is trial 2 with value: 0.8051438927650452.\n",
      "[I 2024-10-17 00:33:53,299] Trial 4 finished with value: 1.1141152381896973 and parameters: {'l1': 11, 'l2': 8, 'lr': 0.0002667186964833657}. Best is trial 2 with value: 0.8051438927650452.\n",
      "[I 2024-10-17 00:34:03,984] Trial 5 finished with value: 0.9271532297134399 and parameters: {'l1': 10, 'l2': 5, 'lr': 0.00022178001197810387}. Best is trial 2 with value: 0.8051438927650452.\n",
      "[I 2024-10-17 00:34:14,793] Trial 6 finished with value: 1.0327199697494507 and parameters: {'l1': 16, 'l2': 2, 'lr': 5.72293506158663e-05}. Best is trial 2 with value: 0.8051438927650452.\n",
      "[I 2024-10-17 00:34:25,523] Trial 7 finished with value: 1.1758755445480347 and parameters: {'l1': 11, 'l2': 12, 'lr': 0.0022698997517716633}. Best is trial 2 with value: 0.8051438927650452.\n",
      "[I 2024-10-17 00:34:36,219] Trial 8 finished with value: 1.4380285739898682 and parameters: {'l1': 16, 'l2': 8, 'lr': 2.550447273445329e-05}. Best is trial 2 with value: 0.8051438927650452.\n",
      "[I 2024-10-17 00:34:46,863] Trial 9 finished with value: 0.859878659248352 and parameters: {'l1': 6, 'l2': 13, 'lr': 0.0017465525230966966}. Best is trial 2 with value: 0.8051438927650452.\n"
     ]
    },
    {
     "name": "stdout",
     "output_type": "stream",
     "text": [
      "Best Hyperparameters: {'l1': 13, 'l2': 15, 'lr': 0.0046050959848751485}\n"
     ]
    }
   ],
   "source": [
    "study = optuna.create_study(direction='minimize')\n",
    "study.optimize(objective, n_trials=10)\n",
    "print(\"Best Hyperparameters:\", study.best_params)"
   ]
  },
  {
   "cell_type": "code",
   "execution_count": 10,
   "id": "73c1beae-78eb-4be6-808f-4c8348af4431",
   "metadata": {},
   "outputs": [
    {
     "name": "stdout",
     "output_type": "stream",
     "text": [
      "MultiCNN(\n",
      "  (conv1): Conv2d(1, 8, kernel_size=(3, 3), stride=(1, 1), padding=(1, 1))\n",
      "  (conv2): Conv2d(8, 16, kernel_size=(3, 3), stride=(1, 1), padding=(1, 1))\n",
      "  (conv3): Conv2d(16, 32, kernel_size=(3, 3), stride=(1, 1), padding=(1, 1))\n",
      "  (pool): MaxPool2d(kernel_size=2, stride=2, padding=0, dilation=1, ceil_mode=False)\n",
      "  (fc1): Linear(in_features=21600, out_features=13, bias=True)\n",
      "  (fc2): Linear(in_features=13, out_features=15, bias=True)\n",
      "  (fc3): Linear(in_features=15, out_features=3, bias=True)\n",
      "  (dropout): Dropout(p=0.5, inplace=False)\n",
      ")\n"
     ]
    }
   ],
   "source": [
    "model = MultiCNN(l1=13, l2=15)\n",
    "print(model)"
   ]
  },
  {
   "cell_type": "code",
   "execution_count": 11,
   "id": "40c84b11-b656-4ad9-aafd-a7cb64aef4ad",
   "metadata": {},
   "outputs": [
    {
     "name": "stdout",
     "output_type": "stream",
     "text": [
      "Epoch 1/30, Training Loss: 1.1284, Validation Loss: 1.0022, Training Accuracy: 52.802%, Validation Accuracy: 63.248%\n",
      "Epoch 2/30, Training Loss: 0.98352, Validation Loss: 0.94271, Training Accuracy: 63.147%, Validation Accuracy: 63.248%\n",
      "Epoch 3/30, Training Loss: 0.96083, Validation Loss: 0.92035, Training Accuracy: 62.931%, Validation Accuracy: 63.248%\n",
      "Epoch 4/30, Training Loss: 0.93793, Validation Loss: 0.88198, Training Accuracy: 63.793%, Validation Accuracy: 64.103%\n",
      "Epoch 5/30, Training Loss: 0.93297, Validation Loss: 0.88772, Training Accuracy: 63.362%, Validation Accuracy: 64.103%\n",
      "Epoch 6/30, Training Loss: 0.92351, Validation Loss: 0.88873, Training Accuracy: 63.793%, Validation Accuracy: 63.248%\n",
      "Epoch 7/30, Training Loss: 0.89589, Validation Loss: 0.88916, Training Accuracy: 64.44%, Validation Accuracy: 63.248%\n",
      "Epoch 8/30, Training Loss: 0.94194, Validation Loss: 0.89382, Training Accuracy: 62.931%, Validation Accuracy: 63.248%\n",
      "Epoch 9/30, Training Loss: 0.89841, Validation Loss: 0.89711, Training Accuracy: 63.147%, Validation Accuracy: 63.248%\n",
      "Epoch 10/30, Training Loss: 0.913, Validation Loss: 0.88543, Training Accuracy: 63.362%, Validation Accuracy: 63.248%\n",
      "Epoch 11/30, Training Loss: 0.89639, Validation Loss: 0.8585, Training Accuracy: 64.224%, Validation Accuracy: 64.103%\n",
      "Epoch 12/30, Training Loss: 0.88581, Validation Loss: 0.86695, Training Accuracy: 63.793%, Validation Accuracy: 64.103%\n",
      "Epoch 13/30, Training Loss: 0.8793, Validation Loss: 0.85492, Training Accuracy: 64.44%, Validation Accuracy: 63.248%\n",
      "Epoch 14/30, Training Loss: 0.8913, Validation Loss: 0.85148, Training Accuracy: 64.44%, Validation Accuracy: 63.248%\n",
      "Epoch 15/30, Training Loss: 0.8929, Validation Loss: 0.84899, Training Accuracy: 65.086%, Validation Accuracy: 63.248%\n",
      "Epoch 16/30, Training Loss: 0.87397, Validation Loss: 0.83329, Training Accuracy: 65.302%, Validation Accuracy: 64.103%\n",
      "Epoch 17/30, Training Loss: 0.88411, Validation Loss: 0.83154, Training Accuracy: 65.517%, Validation Accuracy: 63.248%\n",
      "Epoch 18/30, Training Loss: 0.85426, Validation Loss: 0.79977, Training Accuracy: 65.733%, Validation Accuracy: 68.376%\n",
      "Epoch 19/30, Training Loss: 0.86262, Validation Loss: 0.80193, Training Accuracy: 65.733%, Validation Accuracy: 66.667%\n",
      "Epoch 20/30, Training Loss: 0.88299, Validation Loss: 0.82742, Training Accuracy: 63.793%, Validation Accuracy: 64.103%\n",
      "Epoch 21/30, Training Loss: 0.83383, Validation Loss: 0.78864, Training Accuracy: 66.81%, Validation Accuracy: 65.812%\n",
      "Epoch 22/30, Training Loss: 0.83634, Validation Loss: 0.79468, Training Accuracy: 66.379%, Validation Accuracy: 64.957%\n",
      "Epoch 23/30, Training Loss: 0.82395, Validation Loss: 0.77558, Training Accuracy: 66.81%, Validation Accuracy: 67.521%\n",
      "Epoch 24/30, Training Loss: 0.81483, Validation Loss: 0.75462, Training Accuracy: 65.948%, Validation Accuracy: 69.231%\n",
      "Epoch 25/30, Training Loss: 0.78852, Validation Loss: 0.82113, Training Accuracy: 67.457%, Validation Accuracy: 67.521%\n",
      "Epoch 26/30, Training Loss: 0.80315, Validation Loss: 0.7705, Training Accuracy: 67.888%, Validation Accuracy: 66.667%\n",
      "Epoch 27/30, Training Loss: 0.81638, Validation Loss: 0.76682, Training Accuracy: 66.81%, Validation Accuracy: 66.667%\n",
      "Epoch 28/30, Training Loss: 0.78986, Validation Loss: 0.7293, Training Accuracy: 68.75%, Validation Accuracy: 68.376%\n",
      "Epoch 29/30, Training Loss: 0.85285, Validation Loss: 0.73825, Training Accuracy: 68.966%, Validation Accuracy: 68.376%\n",
      "Epoch 30/30, Training Loss: 0.79329, Validation Loss: 0.79775, Training Accuracy: 67.888%, Validation Accuracy: 64.957%\n"
     ]
    },
    {
     "data": {
      "image/png": "[encoded data removed]",
      "text/plain": [
       "<Figure size 1400x500 with 2 Axes>"
      ]
     },
     "metadata": {},
     "output_type": "display_data"
    }
   ],
   "source": [
    "# Set loss function, and optimizer\n",
    "criterion = nn.CrossEntropyLoss()\n",
    "optimizer = optim.Adam(model.parameters(), lr=0.0046)\n",
    "\n",
    "# Initialize lists to store loss and accuracy for each epoch\n",
    "train_losses = []\n",
    "val_losses = []\n",
    "train_accuracies = []\n",
    "val_accuracies = []\n",
    "\n",
    "num_epochs = 30\n",
    "\n",
    "for epoch in range(num_epochs):\n",
    "    # Training loop\n",
    "    model.train()\n",
    "    running_loss = 0.0\n",
    "    train_correct = 0\n",
    "    train_total = 0\n",
    "\n",
    "    for inputs, labels in train_loader:\n",
    "        optimizer.zero_grad()\n",
    "        outputs = model(inputs)\n",
    "        loss = criterion(outputs, labels)\n",
    "        loss.backward()\n",
    "        optimizer.step()\n",
    "        running_loss += loss.item()\n",
    "\n",
    "        _, predicted = torch.max(outputs.data, 1)\n",
    "        train_total += labels.size(0)\n",
    "        train_correct += (predicted == labels).sum().item()\n",
    "    \n",
    "    train_losses.append(running_loss / len(train_loader))\n",
    "    train_accuracies.append(100 * train_correct / train_total)\n",
    "    \n",
    "    # Validation loop\n",
    "    model.eval()\n",
    "    val_loss = 0.0\n",
    "    val_correct = 0\n",
    "    val_total = 0\n",
    "    \n",
    "    with torch.no_grad():\n",
    "        for inputs, labels in val_loader:\n",
    "            outputs = model(inputs)\n",
    "            loss = criterion(outputs, labels)\n",
    "            val_loss += loss.item()\n",
    "            \n",
    "            _, predicted = torch.max(outputs.data, 1)\n",
    "            val_total += labels.size(0)\n",
    "            val_correct += (predicted == labels).sum().item()\n",
    "    \n",
    "    val_losses.append(val_loss / len(val_loader))\n",
    "    val_accuracies.append(100 * val_correct / val_total)\n",
    "    \n",
    "    print(f'Epoch {epoch+1}/{num_epochs}, Training Loss: {(running_loss/len(train_loader)):.5g}, Validation Loss: {(val_loss/len(val_loader)):.5g}, Training Accuracy: {(100 * train_correct / train_total):.5g}%, Validation Accuracy: {(100 * val_correct / val_total):.5g}%')\n",
    "\n",
    "# Plotting the results\n",
    "plt.figure(figsize=(14, 5))\n",
    "\n",
    "# Plot loss\n",
    "plt.subplot(1, 2, 1)\n",
    "plt.plot(range(1, num_epochs+1), train_losses, label='Training Loss')\n",
    "plt.plot(range(1, num_epochs+1), val_losses, label='Validation Loss')\n",
    "plt.xlabel('Epoch')\n",
    "plt.ylabel('Value')\n",
    "plt.title('Training Loss and Validation Loss')\n",
    "plt.legend()\n",
    "\n",
    "# Plot accuracy\n",
    "plt.subplot(1, 2, 2)\n",
    "plt.plot(range(1, num_epochs+1), train_accuracies, label='Training Accuracy')\n",
    "plt.plot(range(1, num_epochs+1), val_accuracies, label='Validation Accuracy')\n",
    "plt.xlabel('Epoch')\n",
    "plt.ylabel('Value')\n",
    "plt.title('Training Accuracy and Validation Accuracy')\n",
    "plt.legend()\n",
    "\n",
    "plt.tight_layout()\n",
    "plt.show()"
   ]
  },
  {
   "cell_type": "code",
   "execution_count": 12,
   "id": "0ebfa733-830e-48d0-906a-14605dd3252d",
   "metadata": {},
   "outputs": [],
   "source": [
    "def evaluate_dataset(dataset_loader, model=model):\n",
    "    model.eval()\n",
    "    \n",
    "    correct = 0\n",
    "    total = 0\n",
    "    incorrect_idx_dataset = []\n",
    "    correct_idx_dataset = []\n",
    "    true_labels = []\n",
    "    pred_labels = []\n",
    "    \n",
    "    with torch.no_grad():  # No need to track gradients\n",
    "        for batch_idx, (inputs, labels) in enumerate(dataset_loader):\n",
    "            outputs = model(inputs)\n",
    "            _, predicted = torch.max(outputs.data, 1)\n",
    "            total += labels.size(0)\n",
    "            correct += (predicted == labels).sum().item()\n",
    "    \n",
    "            # Collect correct and incorrect indices\n",
    "            for i, (pred, label) in enumerate(zip(predicted, labels)):\n",
    "                if pred == label:\n",
    "                    correct_idx_dataset.append(batch_idx * dataset_loader.batch_size + i)\n",
    "                else:\n",
    "                    incorrect_idx_dataset.append(batch_idx * dataset_loader.batch_size + i)\n",
    "                # Append to true and predicted labels list\n",
    "                true_labels.append(label.item())\n",
    "                pred_labels.append(pred.item())\n",
    "                \n",
    "    accuracy = 100 * correct / total\n",
    "    print(f'Accuracy on dataset: {accuracy:.2f}%')\n",
    "    return correct_idx_dataset, incorrect_idx_dataset, pred_labels, true_labels"
   ]
  },
  {
   "cell_type": "code",
   "execution_count": 13,
   "id": "dd8625e6-8d07-44c8-a733-6620d707f7d6",
   "metadata": {},
   "outputs": [
    {
     "name": "stdout",
     "output_type": "stream",
     "text": [
      "Accuracy on dataset: 68.75%\n"
     ]
    }
   ],
   "source": [
    "correct_idx_train, incorrect_idx_train, pred_labels_train, true_labels_train = evaluate_dataset(train_loader)"
   ]
  },
  {
   "cell_type": "code",
   "execution_count": 14,
   "id": "8c21197a-1bca-4d22-9fb9-ee22c8b1d4b5",
   "metadata": {},
   "outputs": [
    {
     "name": "stdout",
     "output_type": "stream",
     "text": [
      "Accuracy on dataset: 64.96%\n"
     ]
    }
   ],
   "source": [
    "correct_idx_val, incorrect_idx_val, pred_labels_val, true_labels_val = evaluate_dataset(val_loader)"
   ]
  },
  {
   "cell_type": "code",
   "execution_count": 15,
   "id": "c4387773-dff7-4b98-803f-b53e166c5916",
   "metadata": {},
   "outputs": [
    {
     "name": "stdout",
     "output_type": "stream",
     "text": [
      "Accuracy on dataset: 65.07%\n"
     ]
    }
   ],
   "source": [
    "correct_idx_test, incorrect_idx_test, pred_labels_test, true_labels_test = evaluate_dataset(test_loader)"
   ]
  },
  {
   "cell_type": "code",
   "execution_count": 16,
   "id": "caf7edc7-3d7f-49bc-b3e7-31a45a9d3616",
   "metadata": {},
   "outputs": [
    {
     "data": {
      "text/plain": [
       "[1, 3, 9, 12]"
      ]
     },
     "execution_count": 16,
     "metadata": {},
     "output_type": "execute_result"
    }
   ],
   "source": [
    "incorrect_idx_test[0:4]"
   ]
  },
  {
   "cell_type": "code",
   "execution_count": 17,
   "id": "5931e808-bb78-41ff-836e-7d57f7f9c047",
   "metadata": {},
   "outputs": [
    {
     "data": {
      "text/plain": [
       "[0, 2, 4, 5]"
      ]
     },
     "execution_count": 17,
     "metadata": {},
     "output_type": "execute_result"
    }
   ],
   "source": [
    "correct_idx_test[0:4]"
   ]
  },
  {
   "cell_type": "code",
   "execution_count": 18,
   "id": "955b3467-a173-4522-8c76-ea5d8ca76a72",
   "metadata": {},
   "outputs": [
    {
     "data": {
      "text/plain": [
       "51"
      ]
     },
     "execution_count": 18,
     "metadata": {},
     "output_type": "execute_result"
    }
   ],
   "source": [
    "len(incorrect_idx_test)"
   ]
  },
  {
   "cell_type": "code",
   "execution_count": 19,
   "id": "2d64e7d1-c16c-47cc-b5cc-90d31f6d4fc1",
   "metadata": {},
   "outputs": [
    {
     "data": {
      "text/plain": [
       "95"
      ]
     },
     "execution_count": 19,
     "metadata": {},
     "output_type": "execute_result"
    }
   ],
   "source": [
    "len(correct_idx_test)"
   ]
  },
  {
   "cell_type": "code",
   "execution_count": 20,
   "id": "dd0e034b-64e4-4c0a-be4c-a6dcc6620a91",
   "metadata": {},
   "outputs": [
    {
     "data": {
      "text/plain": [
       "146"
      ]
     },
     "execution_count": 20,
     "metadata": {},
     "output_type": "execute_result"
    }
   ],
   "source": [
    "len(test_indices)"
   ]
  },
  {
   "cell_type": "code",
   "execution_count": 21,
   "id": "5f672b04-3335-4879-99ae-506a5225c95d",
   "metadata": {},
   "outputs": [],
   "source": [
    "# Identify which audio files are classified correctly/incorrectly using the original dataset indices\n",
    "train_indices_correct = [train_indices[i] for i in correct_idx_train]\n",
    "train_indices_incorrect = [train_indices[i] for i in incorrect_idx_train]\n",
    "val_indices_correct = [val_indices[i] for i in correct_idx_val]\n",
    "val_indices_incorrect = [val_indices[i] for i in incorrect_idx_val]\n",
    "test_indices_correct = [test_indices[i] for i in correct_idx_test]\n",
    "test_indices_incorrect = [test_indices[i] for i in incorrect_idx_test]"
   ]
  },
  {
   "cell_type": "code",
   "execution_count": 22,
   "id": "a7597c32-eeab-4806-b66f-503e23072d8a",
   "metadata": {},
   "outputs": [
    {
     "data": {
      "text/plain": [
       "95"
      ]
     },
     "execution_count": 22,
     "metadata": {},
     "output_type": "execute_result"
    }
   ],
   "source": [
    "len(test_indices_correct)"
   ]
  },
  {
   "cell_type": "code",
   "execution_count": 23,
   "id": "d714f6d5-cc97-452c-849f-2c959b01a128",
   "metadata": {},
   "outputs": [],
   "source": [
    "# Group all correct/incorrect indices together \n",
    "all_correct = train_indices_correct + val_indices_correct + test_indices_correct\n",
    "all_incorrect = train_indices_incorrect + val_indices_incorrect + test_indices_incorrect\n",
    "# Sort indices\n",
    "all_correct.sort()\n",
    "all_incorrect.sort()"
   ]
  },
  {
   "cell_type": "code",
   "execution_count": 24,
   "id": "7a42ab5e-803f-4b32-b20b-744b707374fd",
   "metadata": {},
   "outputs": [
    {
     "data": {
      "text/plain": [
       "[0, 1, 2, 3, 6]"
      ]
     },
     "execution_count": 24,
     "metadata": {},
     "output_type": "execute_result"
    }
   ],
   "source": [
    "all_correct[0:5]"
   ]
  },
  {
   "cell_type": "code",
   "execution_count": 25,
   "id": "14dc05a9-6be9-4a7b-a9f3-cf659c183edd",
   "metadata": {},
   "outputs": [
    {
     "data": {
      "text/plain": [
       "[4, 5, 9, 21, 29]"
      ]
     },
     "execution_count": 25,
     "metadata": {},
     "output_type": "execute_result"
    }
   ],
   "source": [
    "all_incorrect[0:5]"
   ]
  },
  {
   "cell_type": "code",
   "execution_count": 26,
   "id": "33a9d8d0-8148-40cf-8abc-3bd256269ab7",
   "metadata": {},
   "outputs": [
    {
     "name": "stdout",
     "output_type": "stream",
     "text": [
      "490\n",
      "237\n"
     ]
    }
   ],
   "source": [
    "print(len(all_correct))\n",
    "print(len(all_incorrect))"
   ]
  },
  {
   "cell_type": "code",
   "execution_count": 27,
   "id": "c43f2f87-93c9-431e-b7fd-644cac0fcffe",
   "metadata": {},
   "outputs": [
    {
     "data": {
      "text/plain": [
       "727"
      ]
     },
     "execution_count": 27,
     "metadata": {},
     "output_type": "execute_result"
    }
   ],
   "source": [
    "len(PSUH_paths)"
   ]
  },
  {
   "cell_type": "code",
   "execution_count": 28,
   "id": "5a62afd2-e04e-421d-a98b-b4468167dd0b",
   "metadata": {},
   "outputs": [],
   "source": [
    "# Get corresponding filenames for correct/incorrect indices\n",
    "correct_files = [PSUH_paths[i] for i in all_correct]\n",
    "incorrect_files = [PSUH_paths[i] for i in all_incorrect]\n",
    "# Sort indices\n",
    "correct_files.sort()\n",
    "incorrect_files.sort()"
   ]
  },
  {
   "cell_type": "code",
   "execution_count": 29,
   "id": "94d54b28-8601-462f-a90c-ba548075c126",
   "metadata": {},
   "outputs": [],
   "source": [
    "import re\n",
    "import pandas as pd\n",
    "from collections import Counter\n",
    "\n",
    "\n",
    "def summarize_list(target_list):\n",
    "    result_list = []\n",
    "    for item in target_list:\n",
    "        match = re.search(r'(?:.*?/){5}(\\d{2}[a-zA-Z]{2,4})_', item)\n",
    "        if match:\n",
    "            result_list.append(match.group(1))\n",
    "            \n",
    "    id_counts = Counter()\n",
    "    status_counts = Counter()\n",
    "    \n",
    "    for item in result_list:\n",
    "        numeric_part = item[:2]\n",
    "        char_part = item[2:]\n",
    "        id_counts[numeric_part] += 1\n",
    "        status_counts[char_part] += 1\n",
    "    \n",
    "    # Prepare data for DataFrame\n",
    "    data = {char: [] for char in status_counts.keys()}\n",
    "    for num in id_counts.keys():\n",
    "        for char in status_counts.keys():\n",
    "            count = result_list.count(num + char)\n",
    "            data[char].append(count)\n",
    "    \n",
    "    # Create DataFrame\n",
    "    df = pd.DataFrame(data, index=id_counts.keys())\n",
    "    return df"
   ]
  },
  {
   "cell_type": "code",
   "execution_count": 30,
   "id": "f1a19ca4-ff0d-4ae3-aa66-30d0bfc9ea8c",
   "metadata": {
    "scrolled": true
   },
   "outputs": [],
   "source": [
    "utterances_correct = summarize_list(correct_files)\n",
    "utterances_incorrect = summarize_list(incorrect_files)"
   ]
  },
  {
   "cell_type": "code",
   "execution_count": 31,
   "id": "24c79875-1551-4e9c-901b-849d53616717",
   "metadata": {},
   "outputs": [],
   "source": [
    "# Calculate accuracy dataframe\n",
    "acc_utterances = (utterances_correct / (utterances_correct + utterances_incorrect)) * 100\n",
    "acc_utterances.fillna(0, inplace=True)"
   ]
  },
  {
   "cell_type": "code",
   "execution_count": 33,
   "id": "d9f5aa24-99b0-43e1-8ae4-047100ae0172",
   "metadata": {},
   "outputs": [
    {
     "data": {
      "text/plain": [
       "dc      48.090278\n",
       "post    43.229167\n",
       "pre     78.593750\n",
       "dtype: float64"
      ]
     },
     "execution_count": 33,
     "metadata": {},
     "output_type": "execute_result"
    }
   ],
   "source": [
    "acc_utterances.mean()"
   ]
  },
  {
   "cell_type": "code",
   "execution_count": 36,
   "id": "c7d6f90c-20a8-434d-bfaf-46ac602ee694",
   "metadata": {},
   "outputs": [
    {
     "data": {
      "text/plain": [
       "[0, 0, 0, 0, 0, 0, 1, 0, 0, 0]"
      ]
     },
     "execution_count": 36,
     "metadata": {},
     "output_type": "execute_result"
    }
   ],
   "source": [
    "pred_labels_train[0:10]"
   ]
  },
  {
   "cell_type": "code",
   "execution_count": 37,
   "id": "242c1e6e-a5a9-450c-a625-1d6a8db1b417",
   "metadata": {},
   "outputs": [
    {
     "data": {
      "text/plain": [
       "[1, 2, 0, 0, 0, 0, 2, 1, 2, 2]"
      ]
     },
     "execution_count": 37,
     "metadata": {},
     "output_type": "execute_result"
    }
   ],
   "source": [
    "true_labels_train[0:10]"
   ]
  },
  {
   "cell_type": "code",
   "execution_count": 38,
   "id": "e7f06761-bd60-43a7-92eb-02b2d0e8c782",
   "metadata": {},
   "outputs": [
    {
     "name": "stdout",
     "output_type": "stream",
     "text": [
      "464\n",
      "464\n"
     ]
    }
   ],
   "source": [
    "print(len(pred_labels_train))\n",
    "print(len(true_labels_train))"
   ]
  },
  {
   "cell_type": "code",
   "execution_count": 53,
   "id": "e9a5dd26-ff5b-4a21-8a64-295d70e1bf72",
   "metadata": {},
   "outputs": [],
   "source": [
    "from sklearn.metrics import confusion_matrix, ConfusionMatrixDisplay, classification_report\n",
    "import pandas as pd\n",
    "\n",
    "\n",
    "def evaluate_labels(true_labels, predicted_labels, title):\n",
    "    labels = ['pre', 'dc', 'post']\n",
    "    # Create confusion matrix\n",
    "    cm = confusion_matrix(true_labels, predicted_labels)\n",
    "    disp = ConfusionMatrixDisplay(confusion_matrix=cm, display_labels=labels)\n",
    "    disp.plot()\n",
    "    plt.title(\"Confusion Matrix: \" + title)\n",
    "    plt.show()\n",
    "    print(classification_report(true_labels, predicted_labels))"
   ]
  },
  {
   "cell_type": "code",
   "execution_count": 54,
   "id": "317bbd2f-1b47-451f-b135-6a8cb31ebace",
   "metadata": {},
   "outputs": [
    {
     "data": {
      "image/png": "[encoded data removed]",
      "text/plain": [
       "<Figure size 640x480 with 2 Axes>"
      ]
     },
     "metadata": {},
     "output_type": "display_data"
    },
    {
     "name": "stdout",
     "output_type": "stream",
     "text": [
      "              precision    recall  f1-score   support\n",
      "\n",
      "           0       0.69      1.00      0.82       293\n",
      "           1       0.69      0.29      0.41        86\n",
      "           2       0.50      0.01      0.02        85\n",
      "\n",
      "    accuracy                           0.69       464\n",
      "   macro avg       0.63      0.43      0.42       464\n",
      "weighted avg       0.65      0.69      0.59       464\n",
      "\n"
     ]
    }
   ],
   "source": [
    "evaluate_labels(true_labels_train, pred_labels_train, 'Training Set')"
   ]
  },
  {
   "cell_type": "code",
   "execution_count": 55,
   "id": "0a009d91-a178-48fc-bc42-fe17a71e0862",
   "metadata": {},
   "outputs": [
    {
     "data": {
      "image/png": "[encoded data removed]",
      "text/plain": [
       "<Figure size 640x480 with 2 Axes>"
      ]
     },
     "metadata": {},
     "output_type": "display_data"
    },
    {
     "name": "stdout",
     "output_type": "stream",
     "text": [
      "              precision    recall  f1-score   support\n",
      "\n",
      "           0       0.65      1.00      0.79        74\n",
      "           1       0.50      0.09      0.15        22\n",
      "           2       0.00      0.00      0.00        21\n",
      "\n",
      "    accuracy                           0.65       117\n",
      "   macro avg       0.38      0.36      0.32       117\n",
      "weighted avg       0.51      0.65      0.53       117\n",
      "\n"
     ]
    },
    {
     "name": "stderr",
     "output_type": "stream",
     "text": [
      "/opt/conda/lib/python3.11/site-packages/sklearn/metrics/_classification.py:1531: UndefinedMetricWarning: Precision is ill-defined and being set to 0.0 in labels with no predicted samples. Use `zero_division` parameter to control this behavior.\n",
      "  _warn_prf(average, modifier, f\"{metric.capitalize()} is\", len(result))\n",
      "/opt/conda/lib/python3.11/site-packages/sklearn/metrics/_classification.py:1531: UndefinedMetricWarning: Precision is ill-defined and being set to 0.0 in labels with no predicted samples. Use `zero_division` parameter to control this behavior.\n",
      "  _warn_prf(average, modifier, f\"{metric.capitalize()} is\", len(result))\n",
      "/opt/conda/lib/python3.11/site-packages/sklearn/metrics/_classification.py:1531: UndefinedMetricWarning: Precision is ill-defined and being set to 0.0 in labels with no predicted samples. Use `zero_division` parameter to control this behavior.\n",
      "  _warn_prf(average, modifier, f\"{metric.capitalize()} is\", len(result))\n"
     ]
    }
   ],
   "source": [
    "evaluate_labels(true_labels_val, pred_labels_val, 'Validation Set')"
   ]
  },
  {
   "cell_type": "code",
   "execution_count": 56,
   "id": "553fe46d-baba-45da-9262-0761ba0ab466",
   "metadata": {},
   "outputs": [
    {
     "data": {
      "image/png": "[encoded data removed]",
      "text/plain": [
       "<Figure size 640x480 with 2 Axes>"
      ]
     },
     "metadata": {},
     "output_type": "display_data"
    },
    {
     "name": "stdout",
     "output_type": "stream",
     "text": [
      "              precision    recall  f1-score   support\n",
      "\n",
      "           0       0.65      1.00      0.79        92\n",
      "           1       0.75      0.11      0.19        27\n",
      "           2       0.00      0.00      0.00        27\n",
      "\n",
      "    accuracy                           0.65       146\n",
      "   macro avg       0.47      0.37      0.33       146\n",
      "weighted avg       0.55      0.65      0.53       146\n",
      "\n"
     ]
    },
    {
     "name": "stderr",
     "output_type": "stream",
     "text": [
      "/opt/conda/lib/python3.11/site-packages/sklearn/metrics/_classification.py:1531: UndefinedMetricWarning: Precision is ill-defined and being set to 0.0 in labels with no predicted samples. Use `zero_division` parameter to control this behavior.\n",
      "  _warn_prf(average, modifier, f\"{metric.capitalize()} is\", len(result))\n",
      "/opt/conda/lib/python3.11/site-packages/sklearn/metrics/_classification.py:1531: UndefinedMetricWarning: Precision is ill-defined and being set to 0.0 in labels with no predicted samples. Use `zero_division` parameter to control this behavior.\n",
      "  _warn_prf(average, modifier, f\"{metric.capitalize()} is\", len(result))\n",
      "/opt/conda/lib/python3.11/site-packages/sklearn/metrics/_classification.py:1531: UndefinedMetricWarning: Precision is ill-defined and being set to 0.0 in labels with no predicted samples. Use `zero_division` parameter to control this behavior.\n",
      "  _warn_prf(average, modifier, f\"{metric.capitalize()} is\", len(result))\n"
     ]
    }
   ],
   "source": [
    "evaluate_labels(true_labels_test, pred_labels_test, 'Test Set')"
   ]
  },
  {
   "cell_type": "markdown",
   "id": "09635672-4de3-4422-a6ca-91faed490729",
   "metadata": {},
   "source": [
    "### Save dataset indices"
   ]
  },
  {
   "cell_type": "code",
   "execution_count": 60,
   "id": "8e9d8a28-890f-4a91-a822-c1fbb3bba2c9",
   "metadata": {},
   "outputs": [
    {
     "data": {
      "text/plain": [
       "[547, 44, 131, 218, 568]"
      ]
     },
     "execution_count": 60,
     "metadata": {},
     "output_type": "execute_result"
    }
   ],
   "source": [
    "train_indices[0:5]"
   ]
  },
  {
   "cell_type": "code",
   "execution_count": 62,
   "id": "23d521d0-e840-4819-97ab-bf0c90dedd19",
   "metadata": {},
   "outputs": [
    {
     "data": {
      "text/plain": [
       "'/home/patrick/ssr'"
      ]
     },
     "execution_count": 62,
     "metadata": {},
     "output_type": "execute_result"
    }
   ],
   "source": [
    "import json\n",
    "os.getcwd()"
   ]
  },
  {
   "cell_type": "code",
   "execution_count": 63,
   "id": "b93e2f3c-aed0-41f2-b058-3b8b5ace9fda",
   "metadata": {},
   "outputs": [],
   "source": [
    "with open('PSUH/train_indices.json', 'w') as f:\n",
    "    json.dump(train_indices, f, indent=4)"
   ]
  },
  {
   "cell_type": "code",
   "execution_count": 64,
   "id": "93bb6a23-5d49-48aa-8531-a285aed42f60",
   "metadata": {},
   "outputs": [],
   "source": [
    "with open('PSUH/val_indices.json', 'w') as f:\n",
    "    json.dump(val_indices, f, indent=4)"
   ]
  },
  {
   "cell_type": "code",
   "execution_count": 65,
   "id": "77163ea7-80c6-43ac-9396-6e4dfbd38172",
   "metadata": {},
   "outputs": [],
   "source": [
    "with open('PSUH/test_indices.json', 'w') as f:\n",
    "    json.dump(test_indices, f, indent=4)"
   ]
  }
 ],
 "metadata": {
  "kernelspec": {
   "display_name": "Python 3 (ipykernel)",
   "language": "python",
   "name": "python3"
  },
  "language_info": {
   "codemirror_mode": {
    "name": "ipython",
    "version": 3
   },
   "file_extension": ".py",
   "mimetype": "text/x-python",
   "name": "python",
   "nbconvert_exporter": "python",
   "pygments_lexer": "ipython3",
   "version": "3.11.9"
  }
 },
 "nbformat": 4,
 "nbformat_minor": 5
}
