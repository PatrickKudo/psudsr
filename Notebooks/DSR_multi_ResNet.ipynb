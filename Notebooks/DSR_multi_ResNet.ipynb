{
 "cells": [
  {
   "cell_type": "code",
   "execution_count": 1,
   "id": "cf58597a-d956-4bb4-af80-7a91064fa025",
   "metadata": {},
   "outputs": [],
   "source": [
    "!pip install optuna --quiet"
   ]
  },
  {
   "cell_type": "code",
   "execution_count": 2,
   "id": "94ab4968-3f69-4a66-8c06-4ea2341882ed",
   "metadata": {},
   "outputs": [
    {
     "name": "stdout",
     "output_type": "stream",
     "text": [
      "False\n"
     ]
    },
    {
     "name": "stderr",
     "output_type": "stream",
     "text": [
      "/opt/conda/lib/python3.11/site-packages/tqdm/auto.py:21: TqdmWarning: IProgress not found. Please update jupyter and ipywidgets. See https://ipywidgets.readthedocs.io/en/stable/user_install.html\n",
      "  from .autonotebook import tqdm as notebook_tqdm\n",
      "/opt/conda/lib/python3.11/site-packages/torch/cuda/__init__.py:128: UserWarning: CUDA initialization: Unexpected error from cudaGetDeviceCount(). Did you run some cuda functions before calling NumCudaDevices() that might have already set an error? Error 500: named symbol not found (Triggered internally at ../c10/cuda/CUDAFunctions.cpp:108.)\n",
      "  return torch._C._cuda_getDeviceCount() > 0\n"
     ]
    }
   ],
   "source": [
    "from functools import partial\n",
    "import os\n",
    "import json\n",
    "import tempfile\n",
    "from pathlib import Path\n",
    "import numpy as np\n",
    "import matplotlib.pyplot as plt\n",
    "from sklearn.model_selection import train_test_split\n",
    "\n",
    "import torch\n",
    "import torch.nn as nn\n",
    "import torch.nn.functional as F\n",
    "import torch.optim as optim\n",
    "from torch.utils.data import TensorDataset, DataLoader, Subset\n",
    "import torchaudio\n",
    "import torchaudio.transforms as T\n",
    "\n",
    "import optuna"
   ]
  },
  {
   "cell_type": "code",
   "execution_count": 3,
   "id": "a280e7d3-1cf0-448c-881d-7e786704f359",
   "metadata": {},
   "outputs": [],
   "source": [
    "# Load waveforms and create dataset\n",
    "\n",
    "\n",
    "def pad_tensor(tensor, target_length):\n",
    "    # Pad the tensor to the target length\n",
    "    padding = target_length - tensor.shape[-1]\n",
    "    if padding > 0:\n",
    "        tensor = torch.nn.functional.pad(tensor, (0, padding))\n",
    "    return tensor\n",
    "\n",
    "\n",
    "def create_tensor_dataset(directories):   # Create labeled tensor dataset from PSUH directory\n",
    "    # Initialize lists\n",
    "    audio_tensors = []\n",
    "    filepaths = []\n",
    "    for directory in directories:\n",
    "        for filename in os.listdir(directory):\n",
    "            try:\n",
    "                file_path = os.path.join(directory, filename)\n",
    "                # Load audio file\n",
    "                waveform, sample_rate = torchaudio.load(filename)\n",
    "                # Get spectrogram of waveform and transform to tensor\n",
    "                spectrogram_transform = T.Spectrogram()\n",
    "                spectrogram = spectrogram_transform(waveform)\n",
    "                # Add tensor to list\n",
    "                audio_tensors.append(spectrogram)\n",
    "                # Add filepath to list\n",
    "                filepaths.append(file_path)\n",
    "            except (RuntimeError, OSError) as e:\n",
    "                print(f\"An error occurred with {filename}: {e}\")\n",
    "                continue\n",
    "            \n",
    "    # Assign labels based on filepath name (pre = 0, dc = 1, post = 2)\n",
    "    labels = [0 if 'pre' in s else 1 if 'dc' in s else 2 if 'post' in s else -1 for s in filepaths]\n",
    "\n",
    "    # Find the maximum length of the waveforms\n",
    "    max_length = max(waveform.shape[-1] for waveform in audio_tensors)\n",
    "    # Pad all waveforms to the maximum length\n",
    "    padded_waveforms = [pad_tensor(waveform, max_length) for waveform in audio_tensors]\n",
    "    # Convert lists to tensors\n",
    "    audio_tensors = torch.stack(padded_waveforms)\n",
    "    labels = torch.tensor(labels)\n",
    "    # Create TensorDataset\n",
    "    dataset = TensorDataset(audio_tensors, labels)\n",
    "    return filepaths, labels, dataset\n",
    "\n"
   ]
  },
  {
   "cell_type": "code",
   "execution_count": 4,
   "id": "9894acc2-d819-4136-a7b5-6b20a848eea5",
   "metadata": {},
   "outputs": [
    {
     "name": "stdout",
     "output_type": "stream",
     "text": [
      "An error occurred with 05pre_nr_10.wav: Error opening '05pre_nr_10.wav': System error.\n",
      "An error occurred with 17post_nr_1.wav: Error opening '17post_nr_1.wav': System error.\n",
      "An error occurred with 36dc_nr_3.wav: Error opening '36dc_nr_3.wav': System error.\n"
     ]
    },
    {
     "data": {
      "text/plain": [
       "torch.Size([1, 201, 219])"
      ]
     },
     "execution_count": 4,
     "metadata": {},
     "output_type": "execute_result"
    }
   ],
   "source": [
    "# Define normalized utterance directories\n",
    "pre_norm = \"PSUH/NR/pre/segment/normalized/\"\n",
    "post_norm = \"PSUH/NR/post/segment/normalized/\"\n",
    "dc_norm = \"PSUH/NR/dc/segment/normalized/\"\n",
    "directories = [pre_norm, post_norm, dc_norm]\n",
    "# Create TensorDataset\n",
    "PSUH_paths, PSUH_labels, PSUH_ds = create_tensor_dataset(directories)\n",
    "PSUH_ds[0][0].shape"
   ]
  },
  {
   "cell_type": "code",
   "execution_count": 5,
   "id": "9cd66f57-9667-4e98-acd8-5b92c3bf4088",
   "metadata": {},
   "outputs": [],
   "source": [
    "### Split into train / val / test datasets\n",
    "# Load previously created indices\n",
    "with open('PSUH/train_indices.json', 'r') as file:\n",
    "    train_indices = json.load(file)\n",
    "\n",
    "with open('PSUH/val_indices.json', 'r') as file:\n",
    "    val_indices = json.load(file)\n",
    "    \n",
    "with open('PSUH/test_indices.json', 'r') as file:\n",
    "    test_indices = json.load(file)\n",
    "\n",
    "# Create subsets\n",
    "train_dataset = Subset(PSUH_ds, train_indices)\n",
    "val_dataset = Subset(PSUH_ds, val_indices)\n",
    "test_dataset = Subset(PSUH_ds, test_indices)\n",
    "\n",
    "# Create loaders\n",
    "train_loader = DataLoader(train_dataset, batch_size=32, shuffle=True)\n",
    "val_loader = DataLoader(val_dataset, batch_size=32, shuffle=False)\n",
    "test_loader = DataLoader(test_dataset, batch_size=32, shuffle=False)"
   ]
  },
  {
   "cell_type": "markdown",
   "id": "09d1854f-57be-435d-9c25-cc2c6d34a062",
   "metadata": {},
   "source": [
    "#### Create ResNet model"
   ]
  },
  {
   "cell_type": "markdown",
   "id": "b03d3d5a-a43e-4973-8d38-e1ac1bff7cc9",
   "metadata": {},
   "source": [
    "Architecture based on https://github.com/kuangliu/pytorch-cifar/blob/master/models/resnet.py"
   ]
  },
  {
   "cell_type": "code",
   "execution_count": 56,
   "id": "cfbbfdf1-b31b-463c-9988-2eb5b609f31a",
   "metadata": {},
   "outputs": [
    {
     "name": "stdout",
     "output_type": "stream",
     "text": [
      "ResNet18(\n",
      "  (conv1): Conv2d(1, 64, kernel_size=(7, 7), stride=(2, 2), padding=(3, 3), bias=False)\n",
      "  (bn1): BatchNorm2d(64, eps=1e-05, momentum=0.1, affine=True, track_running_stats=True)\n",
      "  (relu): ReLU(inplace=True)\n",
      "  (maxpool): MaxPool2d(kernel_size=3, stride=2, padding=1, dilation=1, ceil_mode=False)\n",
      "  (layer1): Sequential(\n",
      "    (0): BasicBlock(\n",
      "      (conv1): Conv2d(64, 64, kernel_size=(3, 3), stride=(1, 1), padding=(1, 1), bias=False)\n",
      "      (bn1): BatchNorm2d(64, eps=1e-05, momentum=0.1, affine=True, track_running_stats=True)\n",
      "      (relu): ReLU(inplace=True)\n",
      "      (conv2): Conv2d(64, 64, kernel_size=(3, 3), stride=(1, 1), padding=(1, 1), bias=False)\n",
      "      (bn2): BatchNorm2d(64, eps=1e-05, momentum=0.1, affine=True, track_running_stats=True)\n",
      "      (shortcut): Sequential()\n",
      "    )\n",
      "    (1): BasicBlock(\n",
      "      (conv1): Conv2d(64, 64, kernel_size=(3, 3), stride=(1, 1), padding=(1, 1), bias=False)\n",
      "      (bn1): BatchNorm2d(64, eps=1e-05, momentum=0.1, affine=True, track_running_stats=True)\n",
      "      (relu): ReLU(inplace=True)\n",
      "      (conv2): Conv2d(64, 64, kernel_size=(3, 3), stride=(1, 1), padding=(1, 1), bias=False)\n",
      "      (bn2): BatchNorm2d(64, eps=1e-05, momentum=0.1, affine=True, track_running_stats=True)\n",
      "      (shortcut): Sequential()\n",
      "    )\n",
      "  )\n",
      "  (layer2): Sequential(\n",
      "    (0): BasicBlock(\n",
      "      (conv1): Conv2d(64, 128, kernel_size=(3, 3), stride=(2, 2), padding=(1, 1), bias=False)\n",
      "      (bn1): BatchNorm2d(128, eps=1e-05, momentum=0.1, affine=True, track_running_stats=True)\n",
      "      (relu): ReLU(inplace=True)\n",
      "      (conv2): Conv2d(128, 128, kernel_size=(3, 3), stride=(1, 1), padding=(1, 1), bias=False)\n",
      "      (bn2): BatchNorm2d(128, eps=1e-05, momentum=0.1, affine=True, track_running_stats=True)\n",
      "      (shortcut): Sequential(\n",
      "        (0): Conv2d(64, 128, kernel_size=(1, 1), stride=(2, 2), bias=False)\n",
      "        (1): BatchNorm2d(128, eps=1e-05, momentum=0.1, affine=True, track_running_stats=True)\n",
      "      )\n",
      "    )\n",
      "    (1): BasicBlock(\n",
      "      (conv1): Conv2d(128, 128, kernel_size=(3, 3), stride=(1, 1), padding=(1, 1), bias=False)\n",
      "      (bn1): BatchNorm2d(128, eps=1e-05, momentum=0.1, affine=True, track_running_stats=True)\n",
      "      (relu): ReLU(inplace=True)\n",
      "      (conv2): Conv2d(128, 128, kernel_size=(3, 3), stride=(1, 1), padding=(1, 1), bias=False)\n",
      "      (bn2): BatchNorm2d(128, eps=1e-05, momentum=0.1, affine=True, track_running_stats=True)\n",
      "      (shortcut): Sequential()\n",
      "    )\n",
      "  )\n",
      "  (layer3): Sequential(\n",
      "    (0): BasicBlock(\n",
      "      (conv1): Conv2d(128, 256, kernel_size=(3, 3), stride=(2, 2), padding=(1, 1), bias=False)\n",
      "      (bn1): BatchNorm2d(256, eps=1e-05, momentum=0.1, affine=True, track_running_stats=True)\n",
      "      (relu): ReLU(inplace=True)\n",
      "      (conv2): Conv2d(256, 256, kernel_size=(3, 3), stride=(1, 1), padding=(1, 1), bias=False)\n",
      "      (bn2): BatchNorm2d(256, eps=1e-05, momentum=0.1, affine=True, track_running_stats=True)\n",
      "      (shortcut): Sequential(\n",
      "        (0): Conv2d(128, 256, kernel_size=(1, 1), stride=(2, 2), bias=False)\n",
      "        (1): BatchNorm2d(256, eps=1e-05, momentum=0.1, affine=True, track_running_stats=True)\n",
      "      )\n",
      "    )\n",
      "    (1): BasicBlock(\n",
      "      (conv1): Conv2d(256, 256, kernel_size=(3, 3), stride=(1, 1), padding=(1, 1), bias=False)\n",
      "      (bn1): BatchNorm2d(256, eps=1e-05, momentum=0.1, affine=True, track_running_stats=True)\n",
      "      (relu): ReLU(inplace=True)\n",
      "      (conv2): Conv2d(256, 256, kernel_size=(3, 3), stride=(1, 1), padding=(1, 1), bias=False)\n",
      "      (bn2): BatchNorm2d(256, eps=1e-05, momentum=0.1, affine=True, track_running_stats=True)\n",
      "      (shortcut): Sequential()\n",
      "    )\n",
      "  )\n",
      "  (layer4): Sequential(\n",
      "    (0): BasicBlock(\n",
      "      (conv1): Conv2d(256, 512, kernel_size=(3, 3), stride=(2, 2), padding=(1, 1), bias=False)\n",
      "      (bn1): BatchNorm2d(512, eps=1e-05, momentum=0.1, affine=True, track_running_stats=True)\n",
      "      (relu): ReLU(inplace=True)\n",
      "      (conv2): Conv2d(512, 512, kernel_size=(3, 3), stride=(1, 1), padding=(1, 1), bias=False)\n",
      "      (bn2): BatchNorm2d(512, eps=1e-05, momentum=0.1, affine=True, track_running_stats=True)\n",
      "      (shortcut): Sequential(\n",
      "        (0): Conv2d(256, 512, kernel_size=(1, 1), stride=(2, 2), bias=False)\n",
      "        (1): BatchNorm2d(512, eps=1e-05, momentum=0.1, affine=True, track_running_stats=True)\n",
      "      )\n",
      "    )\n",
      "    (1): BasicBlock(\n",
      "      (conv1): Conv2d(512, 512, kernel_size=(3, 3), stride=(1, 1), padding=(1, 1), bias=False)\n",
      "      (bn1): BatchNorm2d(512, eps=1e-05, momentum=0.1, affine=True, track_running_stats=True)\n",
      "      (relu): ReLU(inplace=True)\n",
      "      (conv2): Conv2d(512, 512, kernel_size=(3, 3), stride=(1, 1), padding=(1, 1), bias=False)\n",
      "      (bn2): BatchNorm2d(512, eps=1e-05, momentum=0.1, affine=True, track_running_stats=True)\n",
      "      (shortcut): Sequential()\n",
      "    )\n",
      "  )\n",
      "  (avgpool): AdaptiveAvgPool2d(output_size=(1, 1))\n",
      "  (fc): Linear(in_features=512, out_features=3, bias=True)\n",
      ")\n"
     ]
    }
   ],
   "source": [
    "\n",
    "class BasicBlock(nn.Module):\n",
    "    def __init__(self, in_channels, out_channels, stride=1):\n",
    "        super(BasicBlock, self).__init__()\n",
    "        self.conv1 = nn.Conv2d(in_channels, out_channels, kernel_size=3, stride=stride, padding=1, bias=False)\n",
    "        self.bn1 = nn.BatchNorm2d(out_channels)\n",
    "        self.relu = nn.ReLU(inplace=True)\n",
    "        self.conv2 = nn.Conv2d(out_channels, out_channels, kernel_size=3, stride=1, padding=1, bias=False)\n",
    "        self.bn2 = nn.BatchNorm2d(out_channels)\n",
    "        \n",
    "        self.shortcut = nn.Sequential()\n",
    "        if stride != 1 or in_channels != out_channels:\n",
    "            self.shortcut = nn.Sequential(\n",
    "                nn.Conv2d(in_channels, out_channels, kernel_size=1, stride=stride, bias=False),\n",
    "                nn.BatchNorm2d(out_channels)\n",
    "            )\n",
    "\n",
    "    def forward(self, x):\n",
    "        out = self.conv1(x)\n",
    "        out = self.bn1(out)\n",
    "        out = self.relu(out)\n",
    "        out = self.conv2(out)\n",
    "        out = self.bn2(out)\n",
    "        out += self.shortcut(x)\n",
    "        out = self.relu(out)\n",
    "        return out\n",
    "\n",
    "class ResNet18(nn.Module):\n",
    "    def __init__(self, num_classes=3):\n",
    "        super(ResNet18, self).__init__()\n",
    "        self.in_channels = 64\n",
    "        self.conv1 = nn.Conv2d(1, 64, kernel_size=(7, 7), stride=(2, 2), padding=(3, 3), bias=False)\n",
    "        self.bn1 = nn.BatchNorm2d(64)\n",
    "        self.relu = nn.ReLU(inplace=True)\n",
    "        self.maxpool = nn.MaxPool2d(kernel_size=3, stride=2, padding=1)\n",
    "        \n",
    "        self.layer1 = self._make_layer(BasicBlock, 64, 2, stride=1)\n",
    "        self.layer2 = self._make_layer(BasicBlock, 128, 2, stride=2)\n",
    "        self.layer3 = self._make_layer(BasicBlock, 256, 2, stride=2)\n",
    "        self.layer4 = self._make_layer(BasicBlock, 512, 2, stride=2)\n",
    "        \n",
    "        self.avgpool = nn.AdaptiveAvgPool2d((1, 1))\n",
    "        self.fc = nn.Linear(512, num_classes)\n",
    "\n",
    "    def _make_layer(self, block, out_channels, num_blocks, stride):\n",
    "        strides = [stride] + [1] * (num_blocks - 1)\n",
    "        layers = []\n",
    "        for stride in strides:\n",
    "            layers.append(block(self.in_channels, out_channels, stride))\n",
    "            self.in_channels = out_channels\n",
    "        return nn.Sequential(*layers)\n",
    "\n",
    "    def forward(self, x):\n",
    "        out = self.conv1(x)\n",
    "        out = self.bn1(out)\n",
    "        out = self.relu(out)\n",
    "        out = self.maxpool(out)\n",
    "        \n",
    "        out = self.layer1(out)\n",
    "        out = self.layer2(out)\n",
    "        out = self.layer3(out)\n",
    "        out = self.layer4(out)\n",
    "        \n",
    "        out = self.avgpool(out)\n",
    "        out = out.view(out.size(0), -1)\n",
    "        out = self.fc(out)\n",
    "        return out\n",
    "\n",
    "\n",
    "# Example usage\n",
    "model = ResNet18()\n",
    "print(model)"
   ]
  },
  {
   "cell_type": "code",
   "execution_count": 7,
   "id": "b508c99b-5190-49c8-85cb-ef1cfeeab18b",
   "metadata": {},
   "outputs": [],
   "source": [
    "def objective(trial):\n",
    "    # Hyperparameters to tune\n",
    "    learning_rate = trial.suggest_float('lr', 1e-5, 1e-2, log=True)\n",
    "    \n",
    "    # Load dataset\n",
    "    train_dataset = Subset(PSUH_ds, train_indices)\n",
    "    train_loader = DataLoader(train_dataset, batch_size=32, shuffle=True)\n",
    "\n",
    "    model = ResNet18()\n",
    "    optimizer = optim.Adam(model.parameters(), lr=learning_rate)\n",
    "    criterion = nn.CrossEntropyLoss()\n",
    "\n",
    "    # Training loop (10 epoch for simplicity)\n",
    "    model.train()\n",
    "    for epoch in range(10):\n",
    "        for batch_idx, (data, target) in enumerate(train_loader):\n",
    "            optimizer.zero_grad()\n",
    "            output = model(data)\n",
    "            loss = criterion(output, target)\n",
    "            loss.backward()\n",
    "            optimizer.step()\n",
    "\n",
    "    return loss.item()"
   ]
  },
  {
   "cell_type": "code",
   "execution_count": 8,
   "id": "614c4dc0-5899-43b0-a405-8870435d1b55",
   "metadata": {},
   "outputs": [
    {
     "name": "stderr",
     "output_type": "stream",
     "text": [
      "[I 2024-10-19 23:44:00,803] A new study created in memory with name: no-name-54a487fd-117b-4d20-b5b8-0006bd99fa56\n",
      "[I 2024-10-19 23:45:49,498] Trial 0 finished with value: 0.40516215562820435 and parameters: {'lr': 2.6454479896099518e-05}. Best is trial 0 with value: 0.40516215562820435.\n",
      "[I 2024-10-19 23:47:39,585] Trial 1 finished with value: 0.989467978477478 and parameters: {'lr': 0.006853589634487472}. Best is trial 0 with value: 0.40516215562820435.\n",
      "[I 2024-10-19 23:49:30,314] Trial 2 finished with value: 0.6509125232696533 and parameters: {'lr': 0.0007230039085240577}. Best is trial 0 with value: 0.40516215562820435.\n",
      "[I 2024-10-19 23:51:20,323] Trial 3 finished with value: 0.16518685221672058 and parameters: {'lr': 0.00012351663930726875}. Best is trial 3 with value: 0.16518685221672058.\n",
      "[I 2024-10-19 23:53:10,115] Trial 4 finished with value: 0.14812281727790833 and parameters: {'lr': 8.558209585501573e-05}. Best is trial 4 with value: 0.14812281727790833.\n",
      "[I 2024-10-19 23:55:00,444] Trial 5 finished with value: 0.4030819237232208 and parameters: {'lr': 0.0009415476542026537}. Best is trial 4 with value: 0.14812281727790833.\n",
      "[I 2024-10-19 23:56:49,216] Trial 6 finished with value: 0.18262699246406555 and parameters: {'lr': 2.9379362335799806e-05}. Best is trial 4 with value: 0.14812281727790833.\n",
      "[I 2024-10-19 23:58:38,816] Trial 7 finished with value: 0.43645358085632324 and parameters: {'lr': 0.0022708241621895117}. Best is trial 4 with value: 0.14812281727790833.\n",
      "[I 2024-10-20 00:00:29,796] Trial 8 finished with value: 0.5943520665168762 and parameters: {'lr': 3.086879855066148e-05}. Best is trial 4 with value: 0.14812281727790833.\n",
      "[I 2024-10-20 00:02:18,586] Trial 9 finished with value: 0.2701292932033539 and parameters: {'lr': 0.00038419473451886216}. Best is trial 4 with value: 0.14812281727790833.\n"
     ]
    },
    {
     "name": "stdout",
     "output_type": "stream",
     "text": [
      "Best Hyperparameters: {'lr': 8.558209585501573e-05}\n"
     ]
    }
   ],
   "source": [
    "study = optuna.create_study(direction='minimize')\n",
    "study.optimize(objective, n_trials=10)\n",
    "print(\"Best Hyperparameters:\", study.best_params)"
   ]
  },
  {
   "cell_type": "code",
   "execution_count": 57,
   "id": "8acaa90e-da52-4855-bf7d-a6d0e36c8606",
   "metadata": {},
   "outputs": [],
   "source": [
    "model = ResNet18()"
   ]
  },
  {
   "cell_type": "code",
   "execution_count": 58,
   "id": "40c84b11-b656-4ad9-aafd-a7cb64aef4ad",
   "metadata": {},
   "outputs": [
    {
     "name": "stdout",
     "output_type": "stream",
     "text": [
      "Epoch 1/30, Training Loss: 0.97212, Validation Loss: 0.88576, Training Accuracy: 62.069%, Validation Accuracy: 63.248%\n",
      "Epoch 2/30, Training Loss: 0.84316, Validation Loss: 0.91337, Training Accuracy: 65.733%, Validation Accuracy: 63.248%\n",
      "Epoch 3/30, Training Loss: 0.78518, Validation Loss: 0.94616, Training Accuracy: 68.75%, Validation Accuracy: 63.248%\n",
      "Epoch 4/30, Training Loss: 0.70578, Validation Loss: 0.87901, Training Accuracy: 73.707%, Validation Accuracy: 66.667%\n",
      "Epoch 5/30, Training Loss: 0.5665, Validation Loss: 1.8712, Training Accuracy: 79.095%, Validation Accuracy: 52.137%\n",
      "Epoch 6/30, Training Loss: 0.49077, Validation Loss: 1.6484, Training Accuracy: 82.112%, Validation Accuracy: 64.103%\n",
      "Epoch 7/30, Training Loss: 0.44923, Validation Loss: 1.0706, Training Accuracy: 83.836%, Validation Accuracy: 63.248%\n",
      "Epoch 8/30, Training Loss: 0.35214, Validation Loss: 0.94042, Training Accuracy: 86.853%, Validation Accuracy: 69.231%\n",
      "Epoch 9/30, Training Loss: 0.29841, Validation Loss: 1.2125, Training Accuracy: 90.517%, Validation Accuracy: 66.667%\n",
      "Epoch 10/30, Training Loss: 0.22066, Validation Loss: 1.0911, Training Accuracy: 93.534%, Validation Accuracy: 62.393%\n",
      "Epoch 11/30, Training Loss: 0.14089, Validation Loss: 1.4, Training Accuracy: 95.69%, Validation Accuracy: 62.393%\n",
      "Epoch 12/30, Training Loss: 0.15953, Validation Loss: 1.0074, Training Accuracy: 94.181%, Validation Accuracy: 67.521%\n",
      "Epoch 13/30, Training Loss: 0.13086, Validation Loss: 1.6566, Training Accuracy: 96.121%, Validation Accuracy: 53.846%\n",
      "Epoch 14/30, Training Loss: 0.14914, Validation Loss: 1.6023, Training Accuracy: 95.259%, Validation Accuracy: 64.957%\n",
      "Epoch 15/30, Training Loss: 0.081745, Validation Loss: 1.0546, Training Accuracy: 98.491%, Validation Accuracy: 66.667%\n",
      "Epoch 16/30, Training Loss: 0.059999, Validation Loss: 1.2838, Training Accuracy: 98.06%, Validation Accuracy: 69.231%\n",
      "Epoch 17/30, Training Loss: 0.068685, Validation Loss: 1.3062, Training Accuracy: 98.276%, Validation Accuracy: 58.974%\n",
      "Epoch 18/30, Training Loss: 0.082427, Validation Loss: 1.4163, Training Accuracy: 97.629%, Validation Accuracy: 68.376%\n",
      "Epoch 19/30, Training Loss: 0.067011, Validation Loss: 1.2379, Training Accuracy: 97.629%, Validation Accuracy: 67.521%\n",
      "Epoch 20/30, Training Loss: 0.06132, Validation Loss: 1.2525, Training Accuracy: 98.276%, Validation Accuracy: 66.667%\n",
      "Epoch 21/30, Training Loss: 0.043765, Validation Loss: 1.3661, Training Accuracy: 98.276%, Validation Accuracy: 64.103%\n",
      "Epoch 22/30, Training Loss: 0.033681, Validation Loss: 1.2377, Training Accuracy: 99.138%, Validation Accuracy: 67.521%\n",
      "Epoch 23/30, Training Loss: 0.05218, Validation Loss: 1.1296, Training Accuracy: 98.707%, Validation Accuracy: 67.521%\n",
      "Epoch 24/30, Training Loss: 0.029887, Validation Loss: 1.0114, Training Accuracy: 99.353%, Validation Accuracy: 71.795%\n",
      "Epoch 25/30, Training Loss: 0.025053, Validation Loss: 1.638, Training Accuracy: 98.922%, Validation Accuracy: 65.812%\n",
      "Epoch 26/30, Training Loss: 0.041385, Validation Loss: 0.94492, Training Accuracy: 98.491%, Validation Accuracy: 71.795%\n",
      "Epoch 27/30, Training Loss: 0.031244, Validation Loss: 1.7018, Training Accuracy: 99.138%, Validation Accuracy: 64.103%\n",
      "Epoch 28/30, Training Loss: 0.040425, Validation Loss: 1.4894, Training Accuracy: 98.707%, Validation Accuracy: 65.812%\n",
      "Epoch 29/30, Training Loss: 0.050559, Validation Loss: 1.2656, Training Accuracy: 98.276%, Validation Accuracy: 67.521%\n",
      "Epoch 30/30, Training Loss: 0.057221, Validation Loss: 2.2394, Training Accuracy: 98.06%, Validation Accuracy: 62.393%\n"
     ]
    },
    {
     "data": {
      "image/png": "[encoded data removed]",
      "text/plain": [
       "<Figure size 1400x500 with 2 Axes>"
      ]
     },
     "metadata": {},
     "output_type": "display_data"
    }
   ],
   "source": [
    "# Set loss function, and optimizer\n",
    "criterion = nn.CrossEntropyLoss()\n",
    "optimizer = optim.Adam(model.parameters(), lr=8.56e-05)\n",
    "\n",
    "# Initialize lists to store loss and accuracy for each epoch\n",
    "train_losses = []\n",
    "val_losses = []\n",
    "train_accuracies = []\n",
    "val_accuracies = []\n",
    "\n",
    "num_epochs = 30\n",
    "\n",
    "for epoch in range(num_epochs):\n",
    "    # Training loop\n",
    "    model.train()\n",
    "    running_loss = 0.0\n",
    "    train_correct = 0\n",
    "    train_total = 0\n",
    "\n",
    "    for inputs, labels in train_loader:\n",
    "        optimizer.zero_grad()\n",
    "        outputs = model(inputs)\n",
    "        loss = criterion(outputs, labels)\n",
    "        loss.backward()\n",
    "        optimizer.step()\n",
    "        running_loss += loss.item()\n",
    "\n",
    "        _, predicted = torch.max(outputs.data, 1)\n",
    "        train_total += labels.size(0)\n",
    "        train_correct += (predicted == labels).sum().item()\n",
    "    \n",
    "    train_losses.append(running_loss / len(train_loader))\n",
    "    train_accuracies.append(100 * train_correct / train_total)\n",
    "    \n",
    "    # Validation loop\n",
    "    model.eval()\n",
    "    val_loss = 0.0\n",
    "    val_correct = 0\n",
    "    val_total = 0\n",
    "    \n",
    "    with torch.no_grad():\n",
    "        for inputs, labels in val_loader:\n",
    "            outputs = model(inputs)\n",
    "            loss = criterion(outputs, labels)\n",
    "            val_loss += loss.item()\n",
    "            \n",
    "            _, predicted = torch.max(outputs.data, 1)\n",
    "            val_total += labels.size(0)\n",
    "            val_correct += (predicted == labels).sum().item()\n",
    "    \n",
    "    val_losses.append(val_loss / len(val_loader))\n",
    "    val_accuracies.append(100 * val_correct / val_total)\n",
    "    \n",
    "    print(f'Epoch {epoch+1}/{num_epochs}, Training Loss: {(running_loss/len(train_loader)):.5g}, Validation Loss: {(val_loss/len(val_loader)):.5g}, Training Accuracy: {(100 * train_correct / train_total):.5g}%, Validation Accuracy: {(100 * val_correct / val_total):.5g}%')\n",
    "\n",
    "# Plotting the results\n",
    "plt.figure(figsize=(14, 5))\n",
    "\n",
    "# Plot loss\n",
    "plt.subplot(1, 2, 1)\n",
    "plt.plot(range(1, num_epochs+1), train_losses, label='Training Loss')\n",
    "plt.plot(range(1, num_epochs+1), val_losses, label='Validation Loss')\n",
    "plt.xlabel('Epoch')\n",
    "plt.ylabel('Value')\n",
    "plt.title('Training Loss and Validation Loss')\n",
    "plt.legend()\n",
    "\n",
    "# Plot accuracy\n",
    "plt.subplot(1, 2, 2)\n",
    "plt.plot(range(1, num_epochs+1), train_accuracies, label='Training Accuracy')\n",
    "plt.plot(range(1, num_epochs+1), val_accuracies, label='Validation Accuracy')\n",
    "plt.xlabel('Epoch')\n",
    "plt.ylabel('Value')\n",
    "plt.title('Training Accuracy and Validation Accuracy')\n",
    "plt.legend()\n",
    "\n",
    "plt.tight_layout()\n",
    "plt.show()"
   ]
  },
  {
   "cell_type": "code",
   "execution_count": 14,
   "id": "0ebfa733-830e-48d0-906a-14605dd3252d",
   "metadata": {},
   "outputs": [],
   "source": [
    "def evaluate_dataset(dataset_loader, model=model):\n",
    "    model.eval()\n",
    "    \n",
    "    correct = 0\n",
    "    total = 0\n",
    "    incorrect_idx_dataset = []\n",
    "    correct_idx_dataset = []\n",
    "    true_labels = []\n",
    "    pred_labels = []\n",
    "    \n",
    "    with torch.no_grad():  # No need to track gradients\n",
    "        for batch_idx, (inputs, labels) in enumerate(dataset_loader):\n",
    "            outputs = model(inputs)\n",
    "            _, predicted = torch.max(outputs.data, 1)\n",
    "            total += labels.size(0)\n",
    "            correct += (predicted == labels).sum().item()\n",
    "    \n",
    "            # Collect correct and incorrect indices\n",
    "            for i, (pred, label) in enumerate(zip(predicted, labels)):\n",
    "                if pred == label:\n",
    "                    correct_idx_dataset.append(batch_idx * dataset_loader.batch_size + i)\n",
    "                else:\n",
    "                    incorrect_idx_dataset.append(batch_idx * dataset_loader.batch_size + i)\n",
    "                # Append to true and predicted labels list\n",
    "                true_labels.append(label.item())\n",
    "                pred_labels.append(pred.item())\n",
    "                \n",
    "    accuracy = 100 * correct / total\n",
    "    print(f'Accuracy on dataset: {accuracy:.2f}%')\n",
    "    return correct_idx_dataset, incorrect_idx_dataset, pred_labels, true_labels"
   ]
  },
  {
   "cell_type": "code",
   "execution_count": 48,
   "id": "dd8625e6-8d07-44c8-a733-6620d707f7d6",
   "metadata": {},
   "outputs": [
    {
     "name": "stdout",
     "output_type": "stream",
     "text": [
      "Accuracy on dataset: 100.00%\n"
     ]
    }
   ],
   "source": [
    "correct_idx_train, incorrect_idx_train, pred_labels_train, true_labels_train = evaluate_dataset(train_loader)"
   ]
  },
  {
   "cell_type": "code",
   "execution_count": 49,
   "id": "8c21197a-1bca-4d22-9fb9-ee22c8b1d4b5",
   "metadata": {},
   "outputs": [
    {
     "name": "stdout",
     "output_type": "stream",
     "text": [
      "Accuracy on dataset: 67.52%\n"
     ]
    }
   ],
   "source": [
    "correct_idx_val, incorrect_idx_val, pred_labels_val, true_labels_val = evaluate_dataset(val_loader)"
   ]
  },
  {
   "cell_type": "code",
   "execution_count": 50,
   "id": "c4387773-dff7-4b98-803f-b53e166c5916",
   "metadata": {},
   "outputs": [
    {
     "name": "stdout",
     "output_type": "stream",
     "text": [
      "Accuracy on dataset: 67.81%\n"
     ]
    }
   ],
   "source": [
    "correct_idx_test, incorrect_idx_test, pred_labels_test, true_labels_test = evaluate_dataset(test_loader)"
   ]
  },
  {
   "cell_type": "code",
   "execution_count": 51,
   "id": "caf7edc7-3d7f-49bc-b3e7-31a45a9d3616",
   "metadata": {},
   "outputs": [
    {
     "data": {
      "text/plain": [
       "[3, 7, 9, 12]"
      ]
     },
     "execution_count": 51,
     "metadata": {},
     "output_type": "execute_result"
    }
   ],
   "source": [
    "incorrect_idx_test[0:4]"
   ]
  },
  {
   "cell_type": "code",
   "execution_count": 52,
   "id": "5931e808-bb78-41ff-836e-7d57f7f9c047",
   "metadata": {},
   "outputs": [
    {
     "data": {
      "text/plain": [
       "[0, 1, 2, 4]"
      ]
     },
     "execution_count": 52,
     "metadata": {},
     "output_type": "execute_result"
    }
   ],
   "source": [
    "correct_idx_test[0:4]"
   ]
  },
  {
   "cell_type": "code",
   "execution_count": 53,
   "id": "955b3467-a173-4522-8c76-ea5d8ca76a72",
   "metadata": {},
   "outputs": [
    {
     "data": {
      "text/plain": [
       "47"
      ]
     },
     "execution_count": 53,
     "metadata": {},
     "output_type": "execute_result"
    }
   ],
   "source": [
    "len(incorrect_idx_test)"
   ]
  },
  {
   "cell_type": "code",
   "execution_count": 54,
   "id": "2d64e7d1-c16c-47cc-b5cc-90d31f6d4fc1",
   "metadata": {},
   "outputs": [
    {
     "data": {
      "text/plain": [
       "99"
      ]
     },
     "execution_count": 54,
     "metadata": {},
     "output_type": "execute_result"
    }
   ],
   "source": [
    "len(correct_idx_test)"
   ]
  },
  {
   "cell_type": "code",
   "execution_count": 55,
   "id": "dd0e034b-64e4-4c0a-be4c-a6dcc6620a91",
   "metadata": {},
   "outputs": [
    {
     "data": {
      "text/plain": [
       "146"
      ]
     },
     "execution_count": 55,
     "metadata": {},
     "output_type": "execute_result"
    }
   ],
   "source": [
    "len(test_indices)"
   ]
  },
  {
   "cell_type": "code",
   "execution_count": 23,
   "id": "5f672b04-3335-4879-99ae-506a5225c95d",
   "metadata": {},
   "outputs": [],
   "source": [
    "# Identify which audio files are classified correctly/incorrectly using the original dataset indices\n",
    "train_indices_correct = [train_indices[i] for i in correct_idx_train]\n",
    "train_indices_incorrect = [train_indices[i] for i in incorrect_idx_train]\n",
    "val_indices_correct = [val_indices[i] for i in correct_idx_val]\n",
    "val_indices_incorrect = [val_indices[i] for i in incorrect_idx_val]\n",
    "test_indices_correct = [test_indices[i] for i in correct_idx_test]\n",
    "test_indices_incorrect = [test_indices[i] for i in incorrect_idx_test]"
   ]
  },
  {
   "cell_type": "code",
   "execution_count": 24,
   "id": "a7597c32-eeab-4806-b66f-503e23072d8a",
   "metadata": {},
   "outputs": [
    {
     "data": {
      "text/plain": [
       "99"
      ]
     },
     "execution_count": 24,
     "metadata": {},
     "output_type": "execute_result"
    }
   ],
   "source": [
    "len(test_indices_correct)"
   ]
  },
  {
   "cell_type": "code",
   "execution_count": 25,
   "id": "d714f6d5-cc97-452c-849f-2c959b01a128",
   "metadata": {},
   "outputs": [],
   "source": [
    "# Group all correct/incorrect indices together \n",
    "all_correct = train_indices_correct + val_indices_correct + test_indices_correct\n",
    "all_incorrect = train_indices_incorrect + val_indices_incorrect + test_indices_incorrect\n",
    "# Sort indices\n",
    "all_correct.sort()\n",
    "all_incorrect.sort()"
   ]
  },
  {
   "cell_type": "code",
   "execution_count": 26,
   "id": "7a42ab5e-803f-4b32-b20b-744b707374fd",
   "metadata": {},
   "outputs": [
    {
     "data": {
      "text/plain": [
       "[0, 2, 3, 4, 5]"
      ]
     },
     "execution_count": 26,
     "metadata": {},
     "output_type": "execute_result"
    }
   ],
   "source": [
    "all_correct[0:5]"
   ]
  },
  {
   "cell_type": "code",
   "execution_count": 27,
   "id": "14dc05a9-6be9-4a7b-a9f3-cf659c183edd",
   "metadata": {},
   "outputs": [
    {
     "data": {
      "text/plain": [
       "[1, 25, 52, 70, 99]"
      ]
     },
     "execution_count": 27,
     "metadata": {},
     "output_type": "execute_result"
    }
   ],
   "source": [
    "all_incorrect[0:5]"
   ]
  },
  {
   "cell_type": "code",
   "execution_count": 28,
   "id": "33a9d8d0-8148-40cf-8abc-3bd256269ab7",
   "metadata": {},
   "outputs": [
    {
     "name": "stdout",
     "output_type": "stream",
     "text": [
      "642\n",
      "85\n"
     ]
    }
   ],
   "source": [
    "print(len(all_correct))\n",
    "print(len(all_incorrect))"
   ]
  },
  {
   "cell_type": "code",
   "execution_count": 29,
   "id": "c43f2f87-93c9-431e-b7fd-644cac0fcffe",
   "metadata": {},
   "outputs": [
    {
     "data": {
      "text/plain": [
       "727"
      ]
     },
     "execution_count": 29,
     "metadata": {},
     "output_type": "execute_result"
    }
   ],
   "source": [
    "len(PSUH_paths)"
   ]
  },
  {
   "cell_type": "code",
   "execution_count": 30,
   "id": "5a62afd2-e04e-421d-a98b-b4468167dd0b",
   "metadata": {},
   "outputs": [],
   "source": [
    "# Get corresponding filenames for correct/incorrect indices\n",
    "correct_files = [PSUH_paths[i] for i in all_correct]\n",
    "incorrect_files = [PSUH_paths[i] for i in all_incorrect]\n",
    "# Sort indices\n",
    "correct_files.sort()\n",
    "incorrect_files.sort()"
   ]
  },
  {
   "cell_type": "code",
   "execution_count": 31,
   "id": "94d54b28-8601-462f-a90c-ba548075c126",
   "metadata": {},
   "outputs": [],
   "source": [
    "import re\n",
    "import pandas as pd\n",
    "from collections import Counter\n",
    "\n",
    "\n",
    "def summarize_list(target_list):\n",
    "    result_list = []\n",
    "    for item in target_list:\n",
    "        match = re.search(r'(?:.*?/){5}(\\d{2}[a-zA-Z]{2,4})_', item)\n",
    "        if match:\n",
    "            result_list.append(match.group(1))\n",
    "            \n",
    "    id_counts = Counter()\n",
    "    status_counts = Counter()\n",
    "    \n",
    "    for item in result_list:\n",
    "        numeric_part = item[:2]\n",
    "        char_part = item[2:]\n",
    "        id_counts[numeric_part] += 1\n",
    "        status_counts[char_part] += 1\n",
    "    \n",
    "    # Prepare data for DataFrame\n",
    "    data = {char: [] for char in status_counts.keys()}\n",
    "    for num in id_counts.keys():\n",
    "        for char in status_counts.keys():\n",
    "            count = result_list.count(num + char)\n",
    "            data[char].append(count)\n",
    "    \n",
    "    # Create DataFrame\n",
    "    df = pd.DataFrame(data, index=id_counts.keys())\n",
    "    return df"
   ]
  },
  {
   "cell_type": "code",
   "execution_count": 32,
   "id": "f1a19ca4-ff0d-4ae3-aa66-30d0bfc9ea8c",
   "metadata": {
    "scrolled": true
   },
   "outputs": [],
   "source": [
    "utterances_correct = summarize_list(correct_files)\n",
    "utterances_incorrect = summarize_list(incorrect_files)"
   ]
  },
  {
   "cell_type": "code",
   "execution_count": 33,
   "id": "24c79875-1551-4e9c-901b-849d53616717",
   "metadata": {},
   "outputs": [],
   "source": [
    "# Calculate accuracy dataframe\n",
    "acc_utterances = (utterances_correct / (utterances_correct + utterances_incorrect)) * 100\n",
    "acc_utterances.fillna(0, inplace=True)"
   ]
  },
  {
   "cell_type": "code",
   "execution_count": 34,
   "id": "d9f5aa24-99b0-43e1-8ae4-047100ae0172",
   "metadata": {},
   "outputs": [
    {
     "data": {
      "text/plain": [
       "dc      45.833333\n",
       "post    52.604167\n",
       "pre     72.841435\n",
       "dtype: float64"
      ]
     },
     "execution_count": 34,
     "metadata": {},
     "output_type": "execute_result"
    }
   ],
   "source": [
    "acc_utterances.mean()"
   ]
  },
  {
   "cell_type": "code",
   "execution_count": 35,
   "id": "c7d6f90c-20a8-434d-bfaf-46ac602ee694",
   "metadata": {},
   "outputs": [
    {
     "data": {
      "text/plain": [
       "[0, 1, 0, 2, 0, 2, 1, 0, 1, 2]"
      ]
     },
     "execution_count": 35,
     "metadata": {},
     "output_type": "execute_result"
    }
   ],
   "source": [
    "pred_labels_train[0:10]"
   ]
  },
  {
   "cell_type": "code",
   "execution_count": 36,
   "id": "242c1e6e-a5a9-450c-a625-1d6a8db1b417",
   "metadata": {},
   "outputs": [
    {
     "data": {
      "text/plain": [
       "[0, 1, 0, 2, 0, 2, 1, 0, 1, 2]"
      ]
     },
     "execution_count": 36,
     "metadata": {},
     "output_type": "execute_result"
    }
   ],
   "source": [
    "true_labels_train[0:10]"
   ]
  },
  {
   "cell_type": "code",
   "execution_count": 37,
   "id": "e7f06761-bd60-43a7-92eb-02b2d0e8c782",
   "metadata": {},
   "outputs": [
    {
     "name": "stdout",
     "output_type": "stream",
     "text": [
      "464\n",
      "464\n"
     ]
    }
   ],
   "source": [
    "print(len(pred_labels_train))\n",
    "print(len(true_labels_train))"
   ]
  },
  {
   "cell_type": "code",
   "execution_count": 38,
   "id": "e9a5dd26-ff5b-4a21-8a64-295d70e1bf72",
   "metadata": {},
   "outputs": [],
   "source": [
    "from sklearn.metrics import confusion_matrix, ConfusionMatrixDisplay, classification_report\n",
    "import pandas as pd\n",
    "\n",
    "\n",
    "def evaluate_labels(true_labels, predicted_labels, title):\n",
    "    labels = ['pre', 'dc', 'post']\n",
    "    # Create confusion matrix\n",
    "    cm = confusion_matrix(true_labels, predicted_labels)\n",
    "    disp = ConfusionMatrixDisplay(confusion_matrix=cm, display_labels=labels)\n",
    "    disp.plot()\n",
    "    plt.title(\"Confusion Matrix: \" + title)\n",
    "    plt.show()\n",
    "    print(classification_report(true_labels, predicted_labels))"
   ]
  },
  {
   "cell_type": "code",
   "execution_count": 39,
   "id": "317bbd2f-1b47-451f-b135-6a8cb31ebace",
   "metadata": {},
   "outputs": [
    {
     "data": {
      "image/png": "[encoded data removed]",
      "text/plain": [
       "<Figure size 640x480 with 2 Axes>"
      ]
     },
     "metadata": {},
     "output_type": "display_data"
    },
    {
     "name": "stdout",
     "output_type": "stream",
     "text": [
      "              precision    recall  f1-score   support\n",
      "\n",
      "           0       1.00      1.00      1.00       293\n",
      "           1       1.00      1.00      1.00        86\n",
      "           2       1.00      1.00      1.00        85\n",
      "\n",
      "    accuracy                           1.00       464\n",
      "   macro avg       1.00      1.00      1.00       464\n",
      "weighted avg       1.00      1.00      1.00       464\n",
      "\n"
     ]
    }
   ],
   "source": [
    "evaluate_labels(true_labels_train, pred_labels_train, 'Training Set')"
   ]
  },
  {
   "cell_type": "code",
   "execution_count": 40,
   "id": "0a009d91-a178-48fc-bc42-fe17a71e0862",
   "metadata": {},
   "outputs": [
    {
     "data": {
      "image/png": "[encoded data removed]",
      "text/plain": [
       "<Figure size 640x480 with 2 Axes>"
      ]
     },
     "metadata": {},
     "output_type": "display_data"
    },
    {
     "name": "stdout",
     "output_type": "stream",
     "text": [
      "              precision    recall  f1-score   support\n",
      "\n",
      "           0       0.76      0.95      0.84        74\n",
      "           1       0.40      0.18      0.25        22\n",
      "           2       0.33      0.24      0.28        21\n",
      "\n",
      "    accuracy                           0.68       117\n",
      "   macro avg       0.50      0.46      0.46       117\n",
      "weighted avg       0.62      0.68      0.63       117\n",
      "\n"
     ]
    }
   ],
   "source": [
    "evaluate_labels(true_labels_val, pred_labels_val, 'Validation Set')"
   ]
  },
  {
   "cell_type": "code",
   "execution_count": 41,
   "id": "553fe46d-baba-45da-9262-0761ba0ab466",
   "metadata": {},
   "outputs": [
    {
     "data": {
      "image/png": "[encoded data removed]",
      "text/plain": [
       "<Figure size 640x480 with 2 Axes>"
      ]
     },
     "metadata": {},
     "output_type": "display_data"
    },
    {
     "name": "stdout",
     "output_type": "stream",
     "text": [
      "              precision    recall  f1-score   support\n",
      "\n",
      "           0       0.76      0.86      0.81        92\n",
      "           1       0.29      0.22      0.25        27\n",
      "           2       0.67      0.52      0.58        27\n",
      "\n",
      "    accuracy                           0.68       146\n",
      "   macro avg       0.57      0.53      0.55       146\n",
      "weighted avg       0.65      0.68      0.66       146\n",
      "\n"
     ]
    }
   ],
   "source": [
    "evaluate_labels(true_labels_test, pred_labels_test, 'Test Set')"
   ]
  },
  {
   "cell_type": "markdown",
   "id": "09635672-4de3-4422-a6ca-91faed490729",
   "metadata": {},
   "source": [
    "### Save dataset indices"
   ]
  },
  {
   "cell_type": "code",
   "execution_count": 60,
   "id": "8e9d8a28-890f-4a91-a822-c1fbb3bba2c9",
   "metadata": {},
   "outputs": [
    {
     "data": {
      "text/plain": [
       "[547, 44, 131, 218, 568]"
      ]
     },
     "execution_count": 60,
     "metadata": {},
     "output_type": "execute_result"
    }
   ],
   "source": [
    "train_indices[0:5]"
   ]
  },
  {
   "cell_type": "code",
   "execution_count": 62,
   "id": "23d521d0-e840-4819-97ab-bf0c90dedd19",
   "metadata": {},
   "outputs": [
    {
     "data": {
      "text/plain": [
       "'/home/patrick/ssr'"
      ]
     },
     "execution_count": 62,
     "metadata": {},
     "output_type": "execute_result"
    }
   ],
   "source": [
    "import json\n",
    "os.getcwd()"
   ]
  },
  {
   "cell_type": "code",
   "execution_count": 63,
   "id": "b93e2f3c-aed0-41f2-b058-3b8b5ace9fda",
   "metadata": {},
   "outputs": [],
   "source": [
    "with open('PSUH/train_indices.json', 'w') as f:\n",
    "    json.dump(train_indices, f, indent=4)"
   ]
  },
  {
   "cell_type": "code",
   "execution_count": 64,
   "id": "93bb6a23-5d49-48aa-8531-a285aed42f60",
   "metadata": {},
   "outputs": [],
   "source": [
    "with open('PSUH/val_indices.json', 'w') as f:\n",
    "    json.dump(val_indices, f, indent=4)"
   ]
  },
  {
   "cell_type": "code",
   "execution_count": 65,
   "id": "77163ea7-80c6-43ac-9396-6e4dfbd38172",
   "metadata": {},
   "outputs": [],
   "source": [
    "with open('PSUH/test_indices.json', 'w') as f:\n",
    "    json.dump(test_indices, f, indent=4)"
   ]
  },
  {
   "cell_type": "markdown",
   "id": "0510c498-8ea6-4d11-a839-bab5cf4550f9",
   "metadata": {},
   "source": [
    "### Save model"
   ]
  },
  {
   "cell_type": "code",
   "execution_count": 59,
   "id": "cd422c53-f6fb-4005-a13b-394798d63e80",
   "metadata": {},
   "outputs": [],
   "source": [
    "model_scripted = torch.jit.script(model) # Export to TorchScript\n",
    "model_scripted.save('models/ResNet18_PSUH_multiclass.pt') # Save"
   ]
  }
 ],
 "metadata": {
  "kernelspec": {
   "display_name": "Python 3 (ipykernel)",
   "language": "python",
   "name": "python3"
  },
  "language_info": {
   "codemirror_mode": {
    "name": "ipython",
    "version": 3
   },
   "file_extension": ".py",
   "mimetype": "text/x-python",
   "name": "python",
   "nbconvert_exporter": "python",
   "pygments_lexer": "ipython3",
   "version": "3.11.9"
  }
 },
 "nbformat": 4,
 "nbformat_minor": 5
}
